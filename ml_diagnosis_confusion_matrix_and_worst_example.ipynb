{
 "cells": [
  {
   "cell_type": "markdown",
   "metadata": {},
   "source": [
    "# Diagnosis of a bad Digits classification\n",
    "\n",
    "Make a Naive Bayes classifier for the Digits task, this uses an 8x8 greyscale of the digits 0-9, the task is to predict the correct label from the image.\n",
    "\n",
    "Generally we do pretty well even just with Naive Bayes. Below we use a Confusion Matrix to identify the classes that are hard to predict (1s get mis-classified a portion of the time). Next we'll pull out an example that's misclassified.\n",
    "\n",
    "A simple debugging process would be:\n",
    "\n",
    "* run a classifier using 10-fold cross validation, note the results\n",
    "* use a Confusion Matrix to identify areas needing improvement\n",
    "* investigate the highest-probability wrong answers\n",
    "* ponder on why the classifier is making these mistakes\n",
    " * consider adding new features or cleaning your data or trying a new classifier or tuning your hyperparameters\n",
    "* repeat"
   ]
  },
  {
   "cell_type": "code",
   "execution_count": 1,
   "metadata": {
    "collapsed": false
   },
   "outputs": [
    {
     "name": "stderr",
     "output_type": "stream",
     "text": [
      "/home/ian/anaconda/envs/scratch/lib/python3.4/site-packages/matplotlib/__init__.py:872: UserWarning: axes.color_cycle is deprecated and replaced with axes.prop_cycle; please use the latter.\n",
      "  warnings.warn(self.msg_depr % (key, alt_key))\n"
     ]
    }
   ],
   "source": [
    "import numpy as np\n",
    "import matplotlib.pyplot as plt\n",
    "import pandas as pd\n",
    "import seaborn as sns\n",
    "\n",
    "from sklearn.dummy import DummyClassifier\n",
    "from sklearn import cross_validation\n",
    "from sklearn.cross_validation import train_test_split\n",
    "from sklearn.metrics import confusion_matrix\n",
    "\n",
    "from sklearn import naive_bayes\n",
    "\n",
    "# let's plot inline\n",
    "%matplotlib inline\n",
    "\n",
    "# load the digits dataset\n",
    "from sklearn.datasets import load_digits\n",
    "digits = load_digits()"
   ]
  },
  {
   "cell_type": "code",
   "execution_count": 2,
   "metadata": {
    "collapsed": false
   },
   "outputs": [
    {
     "name": "stdout",
     "output_type": "stream",
     "text": [
      "01/29/2016 16:03:50\n",
      "\n",
      "CPython 3.4.4\n",
      "IPython 4.0.1\n",
      "\n",
      "compiler   : GCC 4.4.7 20120313 (Red Hat 4.4.7-1)\n",
      "system     : Linux\n",
      "release    : 3.16.0-38-generic\n",
      "machine    : x86_64\n",
      "processor  : x86_64\n",
      "CPU cores  : 8\n",
      "interpreter: 64bit\n"
     ]
    }
   ],
   "source": [
    "# install watermark using\n",
    "# %install_ext https://raw.githubusercontent.com/rasbt/watermark/master/watermark.py\n",
    "%load_ext watermark\n",
    "# show a watermark for this environment\n",
    "%watermark"
   ]
  },
  {
   "cell_type": "code",
   "execution_count": 3,
   "metadata": {
    "collapsed": false
   },
   "outputs": [],
   "source": [
    "# start a separate QTconsole for interactive coding\n",
    "#%qtconsole"
   ]
  },
  {
   "cell_type": "code",
   "execution_count": 4,
   "metadata": {
    "collapsed": false
   },
   "outputs": [
    {
     "name": "stdout",
     "output_type": "stream",
     "text": [
      "X has shape (1797, 64), y has shape (1797,)\n"
     ]
    }
   ],
   "source": [
    "# flatten and binarise the 2D input image\n",
    "arr_digits_greyscale = [digit.flatten() for digit in digits.images]\n",
    "arr_digits = [digit.flatten()>=8 for digit in digits.images]\n",
    "X_greyscale = np.vstack(arr_digits_greyscale)\n",
    "X = np.vstack(arr_digits)\n",
    "y = digits.target\n",
    "print(\"X has shape {}, y has shape {}\".format(X.shape, y.shape))"
   ]
  },
  {
   "cell_type": "markdown",
   "metadata": {},
   "source": [
    "# Visualise some of our examples"
   ]
  },
  {
   "cell_type": "code",
   "execution_count": 5,
   "metadata": {
    "collapsed": false
   },
   "outputs": [
    {
     "name": "stdout",
     "output_type": "stream",
     "text": [
      "y (target label) =  0\n",
      "Image for X[0] = \n"
     ]
    },
    {
     "data": {
      "image/png": "[encoded data removed]",
      "text/plain": [
       "<matplotlib.figure.Figure at 0x7f3823ac02e8>"
      ]
     },
     "metadata": {},
     "output_type": "display_data"
    }
   ],
   "source": [
    "def show_example(idx, X, y):\n",
    "    \"\"\"Show an example as an image from X\"\"\"\n",
    "    print(\"y (target label) = \", y[idx])\n",
    "    print(\"Image for X[{}] = \".format(idx))\n",
    "    plt.matshow(X[idx].reshape((8,8)))\n",
    "    \n",
    "show_example(0, X, y)"
   ]
  },
  {
   "cell_type": "code",
   "execution_count": 6,
   "metadata": {
    "collapsed": false
   },
   "outputs": [
    {
     "name": "stdout",
     "output_type": "stream",
     "text": [
      "y (target label) =  1\n",
      "Image for X[11] = \n"
     ]
    },
    {
     "data": {
      "image/png": "[encoded data removed]",
      "text/plain": [
       "<matplotlib.figure.Figure at 0x7f3863eb9dd8>"
      ]
     },
     "metadata": {},
     "output_type": "display_data"
    }
   ],
   "source": [
    "show_example(11, X, y)"
   ]
  },
  {
   "cell_type": "markdown",
   "metadata": {},
   "source": [
    "# Make a DummyClassifier\n",
    "\n",
    "The goal here is to make a basic no-intelligence classifier, anything we do after this point must show an improvement or else we're not learning anything! This classifier makes a classificiation based on the *dominant class* in the training set (for each fold)."
   ]
  },
  {
   "cell_type": "code",
   "execution_count": 7,
   "metadata": {
    "collapsed": false
   },
   "outputs": [
    {
     "data": {
      "text/plain": [
       "'Scores: 0.096 +/- 0.035 (2 s.d.)'"
      ]
     },
     "execution_count": 7,
     "metadata": {},
     "output_type": "execute_result"
    }
   ],
   "source": [
    "clf = DummyClassifier()\n",
    "cv = cross_validation.StratifiedKFold(y=y, n_folds=10, shuffle=True)\n",
    "\n",
    "scores = cross_validation.cross_val_score(clf, X, y, cv=cv)\n",
    "\n",
    "\"Scores: {:0.3f} +/- {:0.3f} (2 s.d.)\".format(scores.mean(), scores.std()*2)\n",
    "# We expect a 10% score if we're guessing the majority class for a \n",
    "# 10 class problem when we have an example number of examples per class"
   ]
  },
  {
   "cell_type": "markdown",
   "metadata": {},
   "source": [
    "# Bernoulli NaiveBayes\n",
    "\n",
    "Now we'll make a proper (if simple) classifier and confirm that it outperforms the DummyClassifier"
   ]
  },
  {
   "cell_type": "code",
   "execution_count": 8,
   "metadata": {
    "collapsed": false
   },
   "outputs": [
    {
     "data": {
      "text/plain": [
       "'Scores: 0.894 +/- 0.071 (2 s.d.)'"
      ]
     },
     "execution_count": 8,
     "metadata": {},
     "output_type": "execute_result"
    }
   ],
   "source": [
    "clf = naive_bayes.BernoulliNB()\n",
    "\n",
    "cv = cross_validation.StratifiedKFold(y=y, n_folds=10, shuffle=True)\n",
    "\n",
    "scores = cross_validation.cross_val_score(clf, X, y, cv=cv)\n",
    "\n",
    "\"Scores: {:0.3f} +/- {:0.3f} (2 s.d.)\".format(scores.mean(), scores.std()*2)\n",
    "# We expect approximately 88% accuracy"
   ]
  },
  {
   "cell_type": "markdown",
   "metadata": {},
   "source": [
    "# Next we'll Train on 66% of the Data and Test on 33%"
   ]
  },
  {
   "cell_type": "code",
   "execution_count": 9,
   "metadata": {
    "collapsed": false
   },
   "outputs": [
    {
     "name": "stdout",
     "output_type": "stream",
     "text": [
      "Score on the training data:\n",
      "0.907730673317\n",
      "Score on the test split:\n",
      "0.882154882155\n"
     ]
    }
   ],
   "source": [
    "# We'll fix a random seed (42) so the results are the same on each run,\n",
    "# you wouldn't do this in practice but it does help when you're debugging\n",
    "X_train, X_test, y_train, y_test = train_test_split(X, y, test_size=0.33, random_state=42)\n",
    "\n",
    "print(\"Score on the training data:\")\n",
    "clf.fit(X_train, y_train)\n",
    "print(clf.score(X_train, y_train))\n",
    "\n",
    "print(\"Score on the test split:\")\n",
    "print(clf.score(X_test, y_test))\n",
    "# We expect both train and test scores to be pretty similar"
   ]
  },
  {
   "cell_type": "markdown",
   "metadata": {},
   "source": [
    "# Plot Confusion Matrix to Start Diagnosis\n",
    "\n",
    "We see that the diagonal is pretty good (each class is often correctly predicted). Class 1 is sometimes mis-predicted, let's diagnose this."
   ]
  },
  {
   "cell_type": "code",
   "execution_count": 10,
   "metadata": {
    "collapsed": false
   },
   "outputs": [
    {
     "data": {
      "image/png": "[encoded data removed]",
      "text/plain": [
       "<matplotlib.figure.Figure at 0x7f3823a826a0>"
      ]
     },
     "metadata": {},
     "output_type": "display_data"
    }
   ],
   "source": [
    "def plot_confusion_matrix(df, cmap=plt.cm.Blues, title=\"Confusion matrix\"):\n",
    "    \"\"\"Use Seaborn to plot the confusion matrix\"\"\"\n",
    "    sns.heatmap(df, annot=True, vmin=0, vmax=100, cmap=cmap)\n",
    "    plt.ylabel('True label')\n",
    "    plt.yticks(rotation=90)\n",
    "    plt.xlabel('Predicted label')\n",
    "    plt.xticks(rotation=45)\n",
    "    plt.title(title)\n",
    "    \n",
    "cm = confusion_matrix(y_test, clf.predict(X_test))\n",
    "\n",
    "col_names = [str(n) for n in range(10)]\n",
    "cm_df = pd.DataFrame(data=cm, columns=col_names, index=col_names)\n",
    "plot_confusion_matrix(cm_df, title=\"Confusion matrix for digits task\")"
   ]
  },
  {
   "cell_type": "markdown",
   "metadata": {},
   "source": [
    "## Show probabilities for each example of this class"
   ]
  },
  {
   "cell_type": "code",
   "execution_count": 11,
   "metadata": {
    "collapsed": true
   },
   "outputs": [],
   "source": [
    "# Get the indices for class 1 for our diagnosis\n",
    "true_labels_1s_indices = y_test==1\n",
    "predictions_with_1s_as_truth = clf.predict(X_test)[true_labels_1s_indices]\n",
    "# Get the class predictions for every example of Class 1\n",
    "predictions_probabilities_with_1s_as_truth = clf.predict_proba(X_test)[true_labels_1s_indices]"
   ]
  },
  {
   "cell_type": "markdown",
   "metadata": {},
   "source": [
    "## We hope each Class 1 example to be labelled a 1\n",
    "\n",
    "Each mis-prediction means that another class had a higher probability of being chosen than Class 1, for this Class 1 example. We'll draw a matrix of examples (rows) and the 10 class probabilities to see which ones are more likely to be chosen for a set of Class 1 examples."
   ]
  },
  {
   "cell_type": "code",
   "execution_count": 12,
   "metadata": {
    "collapsed": false
   },
   "outputs": [
    {
     "data": {
      "image/png": "[encoded data removed]",
      "text/plain": [
       "<matplotlib.figure.Figure at 0x7f3823d370b8>"
      ]
     },
     "metadata": {},
     "output_type": "display_data"
    }
   ],
   "source": [
    "# Convert the 2D array of probabilities into a dictionary of column vectors    \n",
    "cols_to_vectors_dict = {c:predictions_probabilities_with_1s_as_truth[:,c] for c in range(predictions_probabilities_with_1s_as_truth.shape[1])}\n",
    "df_cols_to_vectors = pd.DataFrame(cols_to_vectors_dict)\n",
    "    \n",
    "def plot_classification_probabilities(df, title, cmap=plt.cm.Blues):\n",
    "    \"\"\"Plot 10 columns of class probabilities for all the examples in our dataframe\"\"\"\n",
    "    sns.heatmap(df, annot=False, vmin=0, vmax=1, cmap=cmap, yticklabels=False)\n",
    "    plt.ylabel('Examples')\n",
    "    #plt.yticks(rotation=90)\n",
    "    plt.xlabel('Predicted label')\n",
    "    plt.xticks(rotation=45)\n",
    "    plt.title(title)\n",
    "plot_classification_probabilities(df_cols_to_vectors, title=\"Probabilities of each class being classified\\nfor labelled 1 examples\")"
   ]
  },
  {
   "cell_type": "code",
   "execution_count": 17,
   "metadata": {
    "collapsed": false
   },
   "outputs": [
    {
     "name": "stdout",
     "output_type": "stream",
     "text": [
      "Least confident Class 1 prediction is on row 0 of predictions_with_1s_as_truth\n"
     ]
    }
   ],
   "source": [
    "# use argsort to return an array of indices where the 0th item represents the index of the lowest item\n",
    "# in predictions_probabilities_with_1s_as_truth (and the 1st item is the next-lowest etc) and select\n",
    "# the index of the least-confident prediction of class 1\n",
    "idx_least_confident_prediction_for_class_1 = predictions_probabilities_with_1s_as_truth[:,1].argsort()[0]\n",
    "print(\"Least confident Class 1 prediction is on row {} of predictions_with_1s_as_truth\".format(idx_least_confident_prediction_for_class_1))"
   ]
  },
  {
   "cell_type": "code",
   "execution_count": 14,
   "metadata": {
    "collapsed": false
   },
   "outputs": [
    {
     "name": "stdout",
     "output_type": "stream",
     "text": [
      "[  1.90087874e-15   1.31683630e-05   9.99738186e-01   1.74148804e-10\n",
      "   8.46132242e-12   1.76628167e-04   7.96685884e-09   3.56786709e-15\n",
      "   7.20091884e-05   2.56914398e-10]\n"
     ]
    }
   ],
   "source": [
    "# for this one example we can get all 10 class probabilities\n",
    "probabilities_per_class = predictions_probabilities_with_1s_as_truth[idx_least_confident_prediction_for_class_1]\n",
    "print(probabilities_per_class)"
   ]
  },
  {
   "cell_type": "code",
   "execution_count": 19,
   "metadata": {
    "collapsed": false
   },
   "outputs": [
    {
     "name": "stdout",
     "output_type": "stream",
     "text": [
      "We'd *incorrectly* predicted class 2 for this example with probability 0.9997381858754101\n"
     ]
    }
   ],
   "source": [
    "# the *most* confident class has the highest probability\n",
    "idx_most_confident_class_for_this_example = probabilities_per_class.argsort()[-1]\n",
    "print(\"We'd *incorrectly* predicted class {} for this example with probability {}\".format(idx_most_confident_class_for_this_example, probabilities_per_class[idx_most_confident_class_for_this_example]))"
   ]
  },
  {
   "cell_type": "markdown",
   "metadata": {},
   "source": [
    "# Show image for this mis-predicted example\n",
    "\n",
    "We can show the image and class (1) for this example, the cell below shows the mis-predicted label."
   ]
  },
  {
   "cell_type": "code",
   "execution_count": 16,
   "metadata": {
    "collapsed": false
   },
   "outputs": [
    {
     "name": "stdout",
     "output_type": "stream",
     "text": [
      "y (target label) =  1\n",
      "Image for X[5] = \n"
     ]
    },
    {
     "data": {
      "image/png": "[encoded data removed]",
      "text/plain": [
       "<matplotlib.figure.Figure at 0x7f38239c2898>"
      ]
     },
     "metadata": {},
     "output_type": "display_data"
    }
   ],
   "source": [
    "idx_for_truth_for_this_example = np.where(true_labels_1s_indices.cumsum()==idx_least_confident_prediction_for_class_1+1)[0][0]    \n",
    "    \n",
    "show_example(idx_for_truth_for_this_example, X_test, y_test)"
   ]
  },
  {
   "cell_type": "markdown",
   "metadata": {
    "collapsed": true
   },
   "source": [
    "# TODO \n",
    "\n",
    "* could we add the greyscale original image for diagnosis?"
   ]
  },
  {
   "cell_type": "code",
   "execution_count": null,
   "metadata": {
    "collapsed": true
   },
   "outputs": [],
   "source": []
  }
 ],
 "metadata": {
  "kernelspec": {
   "display_name": "Python 3",
   "language": "python",
   "name": "python3"
  },
  "language_info": {
   "codemirror_mode": {
    "name": "ipython",
    "version": 3
   },
   "file_extension": ".py",
   "mimetype": "text/x-python",
   "name": "python",
   "nbconvert_exporter": "python",
   "pygments_lexer": "ipython3",
   "version": "3.4.4"
  }
 },
 "nbformat": 4,
 "nbformat_minor": 0
}
